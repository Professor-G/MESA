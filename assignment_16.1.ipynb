{
 "cells": [
  {
   "cell_type": "code",
   "execution_count": 70,
   "metadata": {},
   "outputs": [],
   "source": [
    "import numpy as np\n",
    "import matplotlib.pyplot as plt\n",
    "import matplotlib as mpl\n",
    "from typing import Union\n",
    "from pathlib import Path\n",
    "from pprint import pprint"
   ]
  },
  {
   "cell_type": "code",
   "execution_count": 71,
   "id": "e7903347-c5d7-42e5-ac4f-0ca55f7d5258",
   "metadata": {},
   "outputs": [],
   "source": [
    "def read_mesa_file(file: Union[Path, str]):\n",
    "    \"\"\"A simple file reader that can read a mesa .data file or a .mod model file.\n",
    "    It returns all the values inside those files as an dictionary. If values\n",
    "    are part of a table, they will be arrays.\n",
    "    \n",
    "    Inputs: A file path\n",
    "    \"\"\"\n",
    "    if isinstance(file, str):\n",
    "        file = Path(file)\n",
    "    dic = {}\n",
    "    with file.open('r') as fil:\n",
    "        if file.suffix == \".mod\":\n",
    "            fil.readline()\n",
    "            fil.readline()\n",
    "            fil.readline()\n",
    "            fil.readline()\n",
    "            line = fil.readline().split()\n",
    "            while len(line) > 0:\n",
    "                # print(line)\n",
    "                if line[1].count(\"'\") > 0:  # Strings\n",
    "                    dic[line[0]] = line[1]\n",
    "                elif line[1].count('.') == 1:  # Floats, D or E\n",
    "                    dic[line[0]] = float(line[1].replace('D', 'E'))\n",
    "                elif line[1].isdigit():  # Ints\n",
    "                    dic[line[0]] = line[1]\n",
    "                line = fil.readline().split()\n",
    "            keys = [\"i\"] + fil.readline().split()\n",
    "        elif file.suffix == \".data\":\n",
    "                \n",
    "            fil.readline()\n",
    "            keys = fil.readline().split()\n",
    "            vals = fil.readline().split()\n",
    "            for k, v in zip(keys, vals):\n",
    "                if v.count(\".\") == 1:\n",
    "                    dic[k] = float(v)\n",
    "                    if k == \"Teff\":\n",
    "                        print(k, float(v), dic[\"Teff\"])\n",
    "                elif v.isdigit():\n",
    "                    dic[k] = int(v)\n",
    "                elif v.count(\".\") == 2:\n",
    "                    dic[k] = v\n",
    "                else:\n",
    "                    dic[k] = None\n",
    "            fil.readline()\n",
    "            fil.readline()\n",
    "            keys = fil.readline().split()\n",
    "        # print(keys)\n",
    "        line = fil.readline()\n",
    "        while len(line.split()) > 0:\n",
    "            for i, v in enumerate(line.split()):\n",
    "                if v.count(\".\") == 1:\n",
    "                    if keys[i] in dic.keys():\n",
    "                        dic[keys[i]].append(float(v.replace('D', 'E')))\n",
    "                    else:\n",
    "                        dic[keys[i]] = [float(v.replace('D', 'E'))]\n",
    "                elif v.isdigit():\n",
    "                    if keys[i] in dic.keys():\n",
    "                        dic[keys[i]].append(int(v))\n",
    "                    else:\n",
    "                        dic[keys[i]] = [int(v)]\n",
    "                elif v.count(\".\") == 2:\n",
    "                    if keys[i] in dic.keys():\n",
    "                        dic[keys[i]].append(v)\n",
    "                    else:\n",
    "                        dic[keys[i]] = [v]\n",
    "                else:\n",
    "                    if keys[i] in dic.keys():\n",
    "                        dic[keys[i]].append(None)\n",
    "                    else:\n",
    "                        dic[keys[i]] = [None]\n",
    "                    keys[i]\n",
    "            line = fil.readline()\n",
    "        for key, item in dic.items():\n",
    "            if isinstance(item, list):\n",
    "                dic[key] = np.array(item)\n",
    "    return dic"
   ]
  },
  {
   "cell_type": "code",
   "execution_count": 80,
   "metadata": {},
   "outputs": [],
   "source": [
    "def planck(lamda, Teff):\n",
    "    lhs = 2 * 6.626e-34 * 2.9979e8 * 2.9979e8 / lamda**5\n",
    "    exp = 6.626e-34 * 2.9979e8 / lamda / 1.3806e-23 / Teff\n",
    "    result = lhs / (np.exp(exp) - 1)\n",
    "    return result\n",
    "\n",
    "def color_temp(Teff):\n",
    "    lamdas = np.arange(300, 800, 10) * 1e-9\n",
    "    fluxes = planck(lamdas, Teff)\n",
    "    blue = np.sum(fluxes[(lamdas > 400e-9) & (lamdas < 490e-9)])\n",
    "    green = np.sum(fluxes[(lamdas > 485e-9) & (lamdas < 570e-9)])\n",
    "    red = np.sum(fluxes[(lamdas > 565e-9) & (lamdas < 660e-9)])\n",
    "    color = np.array([red, green, blue])\n",
    "    color = color / np.max(color)\n",
    "    return color"
   ]
  },
  {
   "cell_type": "code",
   "execution_count": 81,
   "metadata": {},
   "outputs": [
    {
     "name": "stdout",
     "output_type": "stream",
     "text": [
      "/home/dgatlin/Documents/2022/astr_565/assignment_16.1\n",
      "dict_keys(['version_number', 'M/Msun', 'model_number', 'star_age', 'initial_z', 'n_shells', 'net_name', 'species', 'Teff', 'power_nuc_burn', 'power_h_burn', 'power_he_burn', 'power_z_burn', 'power_photo', 'total_energy', 'cumulative_energy_error', 'cumulative_error/total_energy', 'num_retries', 'i', 'lnd', 'lnT', 'lnR', 'L', 'dq', 'mlt_vc', 'h1', 'he3', 'he4', 'c12', 'n14', 'o16', 'ne20', 'mg24'])\n"
     ]
    }
   ],
   "source": [
    "here = Path()\n",
    "print(here.absolute())\n",
    "models = []\n",
    "for fil in here.glob(\"*final_model*.mod\"):\n",
    "    models.append(read_mesa_file(fil))\n",
    "# pprint(models)\n",
    "mdl = read_mesa_file(fil)\n",
    "pprint(mdl.keys())"
   ]
  },
  {
   "cell_type": "code",
   "execution_count": 82,
   "metadata": {},
   "outputs": [
    {
     "name": "stdout",
     "output_type": "stream",
     "text": [
      "15130.734819217632\n"
     ]
    },
    {
     "data": {
      "image/png": "[encoded data removed]",
      "text/plain": [
       "<Figure size 432x288 with 1 Axes>"
      ]
     },
     "metadata": {
      "needs_background": "light"
     },
     "output_type": "display_data"
    }
   ],
   "source": [
    "ws = np.arange(100, 800, 10) * 1e-9\n",
    "flx = planck(ws, mdl[\"Teff\"])\n",
    "plt.plot(ws * 1e9, flx)\n",
    "print(mdl[\"Teff\"])"
   ]
  },
  {
   "cell_type": "code",
   "execution_count": 83,
   "metadata": {},
   "outputs": [
    {
     "data": {
      "text/plain": [
       "191.51085751100567"
      ]
     },
     "execution_count": 83,
     "metadata": {},
     "output_type": "execute_result"
    }
   ],
   "source": [
    "2.8977e6 / mdl[\"Teff\"]"
   ]
  },
  {
   "cell_type": "code",
   "execution_count": 84,
   "metadata": {},
   "outputs": [
    {
     "name": "stdout",
     "output_type": "stream",
     "text": [
      "[0.32434958 0.48576493 1.        ]\n",
      "[0.36926823 0.52507401 1.        ]\n",
      "[1.         0.93496345 0.96668886]\n",
      "[1.         0.78708488 0.64078835]\n",
      "[0.60060195 0.70220229 1.        ]\n",
      "[0.31723231 0.47934985 1.        ]\n",
      "[0.44129004 0.58428367 1.        ]\n",
      "[0.34929429 0.5078393  1.        ]\n",
      "[0.74575308 0.79816451 1.        ]\n",
      "[0.33477694 0.49506893 1.        ]\n",
      "[1.         0.68036978 0.4542549 ]\n",
      "[0.50475973 0.63316229 1.        ]\n",
      "[0.96948208 0.93117912 1.        ]\n",
      "[1.         0.668642   0.43607111]\n",
      "[0.86549039 0.87125697 1.        ]\n",
      "[1.         0.70577697 0.49518722]\n",
      "[0.39850738 0.54964071 1.        ]\n"
     ]
    },
    {
     "data": {
      "text/plain": [
       "Text(1, 0, '')"
      ]
     },
     "execution_count": 84,
     "metadata": {},
     "output_type": "execute_result"
    },
    {
     "data": {
      "image/png": "[encoded data removed]",
      "text/plain": [
       "<Figure size 432x288 with 1 Axes>"
      ]
     },
     "metadata": {
      "needs_background": "light"
     },
     "output_type": "display_data"
    }
   ],
   "source": [
    "fig, ax = plt.subplots(1, 1, figsize=(6, 4))\n",
    "for model in models:\n",
    "    ax.scatter(model[\"Teff\"], model[\"L\"].max(), color=color_temp(model[\"Teff\"]))\n",
    "ax.set_xscale(\"log\")\n",
    "ax.set_yscale(\"log\")\n",
    "ax.invert_xaxis()\n",
    "ax.set_xlabel(r\"\")"
   ]
  },
  {
   "cell_type": "code",
   "execution_count": 78,
   "metadata": {},
   "outputs": [
    {
     "data": {
      "text/plain": [
       "15178.65370686984"
      ]
     },
     "execution_count": 78,
     "metadata": {},
     "output_type": "execute_result"
    }
   ],
   "source": [
    "np.exp(mdl[\"lnT\"]).min()"
   ]
  },
  {
   "cell_type": "code",
   "execution_count": 79,
   "metadata": {},
   "outputs": [
    {
     "data": {
      "text/plain": [
       "4.93"
      ]
     },
     "execution_count": 79,
     "metadata": {},
     "output_type": "execute_result"
    }
   ],
   "source": [
    "mdl[\"M/Msun\"]"
   ]
  },
  {
   "cell_type": "code",
   "execution_count": null,
   "metadata": {},
   "outputs": [],
   "source": []
  }
 ],
 "metadata": {
  "kernelspec": {
   "display_name": "snakes",
   "language": "python",
   "name": "snakes"
  },
  "language_info": {
   "codemirror_mode": {
    "name": "ipython",
    "version": 3
   },
   "file_extension": ".py",
   "mimetype": "text/x-python",
   "name": "python",
   "nbconvert_exporter": "python",
   "pygments_lexer": "ipython3",
   "version": "3.9.7"
  },
  "orig_nbformat": 4
 },
 "nbformat": 4,
 "nbformat_minor": 2
}
